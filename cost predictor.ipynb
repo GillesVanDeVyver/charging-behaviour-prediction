{
 "cells": [
  {
   "cell_type": "code",
   "execution_count": 1,
   "metadata": {},
   "outputs": [],
   "source": [
    "'''\n",
    "This script uses the EV Charging behaviours dataset (xlsx format)\n",
    "The script aims to predict charging cost of charging transactions\n",
    "It applies classic regression and lasso regression.\n",
    "'''"
   ]
  },
  {
   "cell_type": "code",
   "execution_count": 2,
   "metadata": {},
   "outputs": [],
   "source": [
    "import numpy as np\n",
    "import datetime as dt\n",
    "import sklearn\n",
    "import pandas as pd\n",
    "from sklearn import preprocessing "
   ]
  },
  {
   "cell_type": "code",
   "execution_count": 3,
   "metadata": {},
   "outputs": [],
   "source": [
    "# read data\n",
    "\n",
    "\n",
    "df = pd.read_excel (r'Data/EV Charging behaviours.xlsx',sheet_name='enlarged data')"
   ]
  },
  {
   "cell_type": "code",
   "execution_count": 4,
   "metadata": {},
   "outputs": [],
   "source": [
    "# encoding of non numerical data\n",
    "\n",
    "\n",
    "from sklearn.preprocessing import OneHotEncoder\n",
    "X=df\n",
    "le = preprocessing.LabelEncoder()\n",
    "X['Driver has home charger'] = le.fit_transform(X['Driver has home charger'].astype(str))\n",
    "enc = preprocessing.OneHotEncoder(handle_unknown='ignore')\n",
    "enc_df = pd.DataFrame(enc.fit_transform(X[['Main Office','car type','Weekday','Laadpaaltype']]).toarray())\n",
    "X = X.join(enc_df)\n"
   ]
  },
  {
   "cell_type": "code",
   "execution_count": 5,
   "metadata": {},
   "outputs": [],
   "source": [
    "#clean data\n",
    "\n",
    "\n",
    "X=X.dropna()"
   ]
  },
  {
   "cell_type": "code",
   "execution_count": 6,
   "metadata": {},
   "outputs": [],
   "source": [
    "# select target feature to predict\n",
    "\n",
    "\n",
    "y_kost=X['€ / kWh']"
   ]
  },
  {
   "cell_type": "code",
   "execution_count": 7,
   "metadata": {},
   "outputs": [],
   "source": [
    "# Decide what features to take into account in the model\n",
    "\n",
    "\n",
    "duration = True\n",
    "percent_charged= True\n",
    "battery_size=True\n",
    "percent_laadpaal=True\n",
    "laadpaaltype=True\n",
    "home_charger=True\n",
    "main_office=True\n",
    "car_type=True\n",
    "year=True\n",
    "weekday=True"
   ]
  },
  {
   "cell_type": "code",
   "execution_count": 8,
   "metadata": {},
   "outputs": [],
   "source": [
    "# select features\n",
    "\n",
    "\n",
    "\n",
    "selection=[]\n",
    "labels=[]\n",
    "\n",
    "if duration:\n",
    "    selection.append('Duration in minutes')\n",
    "if percent_charged:\n",
    "    selection.append('% of battery charged')\n",
    "if battery_size:\n",
    "    selection.append('Battery size')\n",
    "if percent_laadpaal:\n",
    "    selection.append('% laadpaal vermogen')\n",
    "if home_charger:\n",
    "    selection.append('Driver has home charger')\n",
    "if year:\n",
    "    selection.append('Year')\n",
    "\n",
    "\n",
    "    \n",
    "    \n",
    "labels=selection.copy()\n",
    "used_params=selection.copy()\n",
    "onehot_counter=0\n",
    "\n",
    "\n",
    "offices=X['Main Office'].unique()\n",
    "nb_officess=len(offices.tolist())\n",
    "if main_office:\n",
    "    classes=[onehot_counter+i for i in range(nb_officess)]\n",
    "    selection=selection+classes\n",
    "    labels=labels+offices.tolist()\n",
    "    used_params.append('Main office')\n",
    "onehot_counter=onehot_counter+nb_officess\n",
    "\n",
    "car_types=X['car type'].unique()\n",
    "nb_car_types=len(car_types.tolist())\n",
    "if car_type:\n",
    "    classes=[onehot_counter+i for i in range(nb_car_types)]\n",
    "    selection=selection+classes\n",
    "    labels=labels+car_types.tolist()\n",
    "    used_params.append('car type')\n",
    "onehot_counter=onehot_counter+nb_car_types\n",
    "\n",
    "weekdays=X['Weekday'].unique()\n",
    "nb_weekdays=7\n",
    "if car_type:\n",
    "    classes=[onehot_counter+i for i in range(nb_weekdays)]\n",
    "    selection=selection+classes\n",
    "    labels=labels+weekdays.tolist()\n",
    "    used_params.append('Weekday')\n",
    "onehot_counter=onehot_counter+nb_weekdays\n",
    "\n",
    "laadpaaltypes=X['Laadpaaltype'].unique()\n",
    "nb_laadpaaltypes=3\n",
    "if laadpaaltype:\n",
    "    classes=[onehot_counter+i for i in range(nb_laadpaaltypes)]\n",
    "    selection=selection+classes\n",
    "    labels=labels+laadpaaltypes.tolist()\n",
    "    used_params.append('Laadpaaltype')\n",
    "onehot_counter=onehot_counter+nb_car_types\n",
    "\n",
    "X_selection= X[selection]\n"
   ]
  },
  {
   "cell_type": "code",
   "execution_count": 9,
   "metadata": {},
   "outputs": [],
   "source": [
    "# scale data\n",
    "# regression requires data to be scaled (<=> trees)\n",
    "\n",
    "scaler = preprocessing.StandardScaler().fit(X_selection)\n",
    "X_scaled = scaler.transform(X_selection)"
   ]
  },
  {
   "cell_type": "code",
   "execution_count": 10,
   "metadata": {},
   "outputs": [],
   "source": [
    "# random train test split\n",
    "\n",
    "from sklearn import tree\n",
    "from sklearn.model_selection import train_test_split\n",
    "\n",
    "X_train, X_test, y_train, y_test = train_test_split(X_scaled, y_kost, test_size=0.33, random_state=42)"
   ]
  },
  {
   "cell_type": "code",
   "execution_count": 11,
   "metadata": {},
   "outputs": [
    {
     "name": "stdout",
     "output_type": "stream",
     "text": [
      "train score lasso:0.0\n",
      "test score lasso:-0.00034410977101151374\n",
      "mean_absolute_error lasso:0.05470663688643317\n"
     ]
    }
   ],
   "source": [
    "# lasso regression\n",
    "\n",
    "from sklearn import linear_model\n",
    "from sklearn import metrics\n",
    "\n",
    "clf_lasso = linear_model.Lasso()\n",
    "clf_lasso=clf_lasso.fit(X_train, y_train)\n",
    "\n",
    "print('train score lasso:' + str(clf_lasso.score(X_train, y_train)))\n",
    "print('test score lasso:' + str(clf_lasso.score(X_test, y_test)))\n",
    "\n",
    "y_lasso_test=clf_lasso.predict(X_test)\n",
    "\n",
    "\n",
    "print('mean_absolute_error lasso:' + str(metrics.mean_absolute_error (y_lasso_test,y_test)))\n",
    "\n",
    "\n"
   ]
  },
  {
   "cell_type": "code",
   "execution_count": 12,
   "metadata": {},
   "outputs": [
    {
     "name": "stdout",
     "output_type": "stream",
     "text": [
      "(13351, 77)\n",
      "Computing regularization path using the LARS ...\n",
      "."
     ]
    },
    {
     "data": {
      "image/png": "[encoded data removed]",
      "text/plain": [
       "<Figure size 432x288 with 1 Axes>"
      ]
     },
     "metadata": {
      "needs_background": "light"
     },
     "output_type": "display_data"
    },
    {
     "name": "stdout",
     "output_type": "stream",
     "text": [
      "0.2795799957630838\n"
     ]
    }
   ],
   "source": [
    "# visualize lasso path\n",
    "\n",
    "import numpy as np\n",
    "import matplotlib.pyplot as plt\n",
    "\n",
    "from sklearn import linear_model\n",
    "from sklearn import datasets\n",
    "\n",
    "\n",
    "X_lasso=X_scaled\n",
    "y=y_kost.to_numpy()\n",
    "#X, y = datasets.load_diabetes(return_X_y=True)\n",
    "print(X.shape)\n",
    "\n",
    "print(\"Computing regularization path using the LARS ...\")\n",
    "_, _, coefs = linear_model.lars_path(X_lasso, y, method='lasso', verbose=True)\n",
    "\n",
    "xx = np.sum(np.abs(coefs.T), axis=1)\n",
    "xx /= xx[-1]\n",
    "\n",
    "plt.plot(xx, coefs.T)\n",
    "ymin, ymax = plt.ylim()\n",
    "plt.vlines(xx, ymin, ymax, linestyle='dashed')\n",
    "plt.xlabel('|coef| / max|coef|')\n",
    "plt.ylabel('Coefficients')\n",
    "plt.title('LASSO Path')\n",
    "plt.axis('tight')\n",
    "plt.show()\n",
    "\n",
    "\n",
    "\n",
    "coeffs = clf_lasso.coef_         # dense np.array\n",
    "sparse_coeffs = clf_lasso.sparse_coef_  # sparse matrix\n",
    "\n",
    "intercept_coeffs = clf_lasso.intercept_    # probably also relevant\n",
    "print(clf_lasso.intercept_)"
   ]
  },
  {
   "cell_type": "code",
   "execution_count": 13,
   "metadata": {},
   "outputs": [],
   "source": [
    "# get names of features back for non numerical data\n",
    "\n",
    "\n",
    "features=selection.copy()\n",
    "for i in range(len(features)):\n",
    "    featr=features[i]\n",
    "    if isinstance(featr, int):\n",
    "        if featr<=9:\n",
    "            features[i]=offices[featr]\n",
    "        elif featr<=29:\n",
    "            features[i]=car_types[featr-10]\n",
    "        elif featr<=36:\n",
    "            features[i]=weekdays[featr-30]\n",
    "        else:\n",
    "            features[i]=laadpaaltypes[featr-37]\n"
   ]
  },
  {
   "cell_type": "code",
   "execution_count": 14,
   "metadata": {},
   "outputs": [
    {
     "name": "stdout",
     "output_type": "stream",
     "text": [
      "train score ridge:0.619250302228372\n",
      "test score ridge:0.5776122668313246\n",
      "mean_absolute_error ridge test:0.029947902590884302\n",
      "mean_absolute_error ridge train:0.029669022390554675\n"
     ]
    },
    {
     "data": {
      "text/plain": [
       "0.0331280488579791"
      ]
     },
     "execution_count": 14,
     "metadata": {},
     "output_type": "execute_result"
    }
   ],
   "source": [
    "# model evaluation\n",
    "\n",
    "from sklearn import linear_model\n",
    "from sklearn.metrics import mean_absolute_error \n",
    "\n",
    "clf_ridge = linear_model.Ridge()\n",
    "clf_ridge=clf_ridge.fit(X_train, y_train)\n",
    "\n",
    "print('train score ridge:' + str(clf_ridge.score(X_train, y_train)))\n",
    "print('test score ridge:' + str(clf_ridge.score(X_test, y_test)))\n",
    "y_ridge_test=clf_ridge.predict(X_test)\n",
    "y_ridge_train=clf_ridge.predict(X_train)\n",
    "\n",
    "print('mean_absolute_error ridge test:' + str(mean_absolute_error (y_ridge_test,y_test)))\n",
    "print('mean_absolute_error ridge train:' + str(mean_absolute_error (y_ridge_train,y_train)))\n",
    "\n",
    "\n",
    "from scipy import stats\n",
    "stats.median_abs_deviation(y_test)"
   ]
  },
  {
   "cell_type": "code",
   "execution_count": 15,
   "metadata": {},
   "outputs": [
    {
     "name": "stdout",
     "output_type": "stream",
     "text": [
      "[0.0, 0.00015849937590993563, -0.00016626062588150062, -0.00018033477989933116, 0.00018690574286290014, -0.0001951416701219875, -0.0002619236435029678, -0.00030472684013582734, 0.00030572384556959225, -0.00033011946332260557, 0.00035034205383241857, -0.00036289941895473925, 0.0005597906710747694, -0.0005800732155186131, 0.0007323496471112302, -0.0008495617122085233, 0.0008603231296134851, -0.0008896853582867653, -0.0009219568917243744, -0.0010342621422121637, 0.0011837633067086, -0.0011983254061631416, 0.0012935171951973918, -0.001427098128433982, 0.0014470623459754326, 0.001450697619365677, 0.0015200910675867286, -0.0015220286058275092, 0.0016072723919357765, -0.0022053129570783476, 0.002571032145582191, -0.0026274899575611174, -0.0027968978926965387, 0.0028593214952680325, -0.0028743240224997947, -0.0029967357443118244, 0.0037985818891768794, 0.0038195695875729843, 0.004356835355244299, -0.004463394546433733, -0.004545574529059166, -0.006970422503201954, 0.006988710474450802, -0.010551550319562314, -0.04209645688804924, -0.06759500698287722]\n",
      "['Kortrijk', 'Volkswagen ID.4 1st', 'Friday', 'Lummen', 'Thursday', 'Volco XC40', 'BMW i3', 'Sunday', 'Peugeot E-2008', 'Volkswagen ID.4 Pro', 'Skoda Enyaq 80', 'KIA E-NIRO 64', 'Wednesday', 'Zwijndrecht', 'Tesla Model X Long range', '01_Office Charger', 'Tuesday', 'Battery size', 'Smart Forfour', 'Saturday', 'Volkswagen ID.3 1st', 'Year', 'KIA E-NIRO 39', 'Volkswagen ID.3 Pro', 'Tesla Model 3 Long range', 'Monday', 'Volkswagen E-golf', 'Duration in minutes', 'Hyundai Ioniq', 'Louvain-La-Neuve', 'Volkswagen ID.3 Pro S', 'Driver has home charger', 'Zelzate', 'Herentals', 'Tesla Model 3 Performance', 'KIA E-SOUL 64', 'Skoda Enyaq 60', 'Polestar 2', 'Gent', 'Hasselt', '% of battery charged', '% laadpaal vermogen', 'Berchem', 'Brussel', '03_Public Charger', '02_Home Charger']\n"
     ]
    }
   ],
   "source": [
    "# prints the values and magnitudes of the lasso model coefficients for each feature, sorted\n",
    "\n",
    "\n",
    "comps=clf_ridge.coef_         # dense np.array\n",
    "abs_comp =  np.array([abs(el) for el in comps])\n",
    "\n",
    "#sort\n",
    "inds=abs_comp.argsort()\n",
    "vals=[comps[i] for i in inds]\n",
    "print(vals)\n",
    "features=[selection[i] for i in inds]\n",
    "for i in range(len(features)):\n",
    "    featr=features[i]\n",
    "    if isinstance(featr, int):\n",
    "        if featr<=9:\n",
    "            features[i]=offices[featr]\n",
    "        elif featr<=29:\n",
    "            features[i]=car_types[featr-10]\n",
    "        elif featr<=36:\n",
    "            features[i]=weekdays[featr-30]\n",
    "        else:\n",
    "            features[i]=laadpaaltypes[featr-37]\n",
    "            \n",
    "print(features)\n",
    "\n",
    "        "
   ]
  },
  {
   "cell_type": "code",
   "execution_count": 16,
   "metadata": {},
   "outputs": [
    {
     "name": "stdout",
     "output_type": "stream",
     "text": [
      "train score lin:0.619250302228372\n",
      "test score lin:0.5776122668313246\n",
      "mean_absolute_error lin test:0.029954729845059994\n",
      "mean_absolute_error lin train:0.029675802479634264\n"
     ]
    }
   ],
   "source": [
    "# linear regression as comparison\n",
    "\n",
    "from sklearn import linear_model\n",
    "from sklearn.metrics import mean_absolute_error \n",
    "\n",
    "clf_lin = linear_model.LinearRegression()\n",
    "clf_lin=clf_lin.fit(X_train, y_train)\n",
    "\n",
    "print('train score lin:' + str(clf_ridge.score(X_train, y_train)))\n",
    "print('test score lin:' + str(clf_ridge.score(X_test, y_test)))\n",
    "y_lin_test=clf_lin.predict(X_test)\n",
    "y_lin_train=clf_lin.predict(X_train)\n",
    "\n",
    "print('mean_absolute_error lin test:' + str(mean_absolute_error (y_lin_test,y_test)))\n",
    "print('mean_absolute_error lin train:' + str(mean_absolute_error (y_lin_train,y_train)))\n"
   ]
  },
  {
   "cell_type": "code",
   "execution_count": null,
   "metadata": {},
   "outputs": [],
   "source": []
  },
  {
   "cell_type": "code",
   "execution_count": null,
   "metadata": {},
   "outputs": [],
   "source": []
  }
 ],
 "metadata": {
  "kernelspec": {
   "display_name": "Python 3",
   "language": "python",
   "name": "python3"
  },
  "language_info": {
   "codemirror_mode": {
    "name": "ipython",
    "version": 3
   },
   "file_extension": ".py",
   "mimetype": "text/x-python",
   "name": "python",
   "nbconvert_exporter": "python",
   "pygments_lexer": "ipython3",
   "version": "3.8.3"
  }
 },
 "nbformat": 4,
 "nbformat_minor": 4
}
